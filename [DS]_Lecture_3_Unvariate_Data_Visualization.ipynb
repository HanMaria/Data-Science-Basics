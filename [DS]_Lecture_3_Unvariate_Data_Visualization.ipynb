{
  "nbformat": 4,
  "nbformat_minor": 0,
  "metadata": {
    "colab": {
      "private_outputs": true,
      "provenance": []
    },
    "kernelspec": {
      "name": "python3",
      "display_name": "Python 3"
    },
    "language_info": {
      "name": "python"
    }
  },
  "cells": [
    {
      "cell_type": "markdown",
      "source": [
        "# **Data Science Basics in Python Series**"
      ],
      "metadata": {
        "id": "lN5jKjYX0wOR"
      }
    },
    {
      "cell_type": "markdown",
      "source": [
        "## **Lecture 3: Matplotlib for Unvariate Data Visualization in Python**\n",
        "\n",
        "**Michael Pyrcz, Associate Professor, The University of Texas at Austin**"
      ],
      "metadata": {
        "id": "hrnIBbjf0wGA"
      }
    },
    {
      "cell_type": "markdown",
      "source": [
        "### **Data Visualizatio with Matplotlib in Python for Engineers and Geostatistics**\n",
        "\n",
        "This is the tutorial for/ demonstrate of **Unvariate Data Visualization in Python**. In Python, a common tool for dealing with Visualization is **Matplotlib Python package**\n",
        "* Initiated by John Hunter along with many contributers.\n",
        "* Opensource project is a sponsored project of [NumFocus](https://numfocus.org/)\n",
        "\n",
        "This tutorial includes methods and operation that would commonly be required for Engineers and Geostatistics working with Data Visualization for the purpose of:\n",
        "* Data checking/ Data cleaning\n",
        "* Data mining/ Inferential Data Analysis\n",
        "* Predictive Model\n",
        "\n",
        "for Data Analytics, Geostatistics and Machine learning."
      ],
      "metadata": {
        "id": "m2Dusec-0v9w"
      }
    },
    {
      "cell_type": "markdown",
      "source": [
        "### **Data Visualization**\n",
        "\n",
        "Data visualization includes any graphical represetation of the data\n",
        "\n",
        "We will demonstrate the basic concepts with only\n",
        "* unvariate distributions, histograms\n",
        "\n",
        "We will start simple and add more complexity and customization."
      ],
      "metadata": {
        "id": "OfUgMTOV3Mmy"
      }
    },
    {
      "cell_type": "markdown",
      "source": [
        "### **Project Goal**\n",
        "\n",
        "Learns the basics for working with Unvariate Data Visualization in Python to build practical spatial data analytics, geostatistics and machine learning workflows.\n",
        "* Focus on customization and not a survey of available plot times"
      ],
      "metadata": {
        "id": "o9c58Njv31Mx"
      }
    },
    {
      "cell_type": "markdown",
      "source": [
        "### **Load and Configure the Required Libraries**\n",
        "\n",
        "The following code loads the required libraries and set the plotting default."
      ],
      "metadata": {
        "id": "8w5DIGIj4cnY"
      }
    },
    {
      "cell_type": "code",
      "execution_count": null,
      "metadata": {
        "id": "Oup9HVph0ZjA"
      },
      "outputs": [],
      "source": [
        "import os\n",
        "import numpy as np\n",
        "import pandas as pd\n",
        "import matplotlib.pyplot as plt\n",
        "from matplotlib.ticker import (MultipleLocator, AutoMinorLocator)  # Control of aeis ticks\n",
        "plt.rc('axes', axisbelow=True)                                     # set axes and grids in the background for all plots\n",
        "from matplotlib.patches import Rectangle                           # Drawing shapes on plots"
      ]
    },
    {
      "cell_type": "markdown",
      "source": [
        "### **Loading the Dataset**\n",
        "\n",
        "Let's load a tabular dataset from another .csv file, [spatial_nonlinear_MV_facies_v1.csv](https://github.com/GeostatsGuy/GeoDataSets/blob/master/spatial_nonlinear_MV_facies_v1.csv)\n",
        "\n"
      ],
      "metadata": {
        "id": "pEsxqoNn5xL1"
      }
    },
    {
      "cell_type": "code",
      "source": [
        "table = pd.read_csv('https://raw.githubusercontent.com/GeostatsGuy/GeoDataSets/master/spatial_nonlinear_MV_facies_v1.csv')\n",
        "\n",
        "table = table.iloc[:,1:]\n",
        "print('The tabular is a ' + str(type(table)) + '.')\n",
        "table.head()"
      ],
      "metadata": {
        "id": "Br4s76C26FIP"
      },
      "execution_count": null,
      "outputs": []
    },
    {
      "cell_type": "markdown",
      "source": [
        "### **Extract the Feature from the Table**"
      ],
      "metadata": {
        "id": "L-RYaLET6pFf"
      }
    },
    {
      "cell_type": "code",
      "source": [
        "por = table['Porosity'].values   # extract porosity feature as a 1D ndarray\n",
        "print('The por is a ' + str(type(por)) + ' of the shape' + str(por.shape) + '.')\n",
        "np.set_printoptions(precision=10, threshold=100)\n",
        "por"
      ],
      "metadata": {
        "id": "6M7ev0CT6j1E"
      },
      "execution_count": null,
      "outputs": []
    },
    {
      "cell_type": "markdown",
      "source": [
        "### **Histogram**\n",
        "\n",
        "Here's the basic histogram plot\n",
        "* Quite a plain plot\n",
        "* Axes unlabeled"
      ],
      "metadata": {
        "id": "TPAvBjEW8KTK"
      }
    },
    {
      "cell_type": "code",
      "source": [
        "plt.hist(x=table['Porosity'].values)\n",
        "plt.show()"
      ],
      "metadata": {
        "id": "sCVafdBv7LGx"
      },
      "execution_count": null,
      "outputs": []
    },
    {
      "cell_type": "markdown",
      "source": [
        "### **Design the Plot space**\n",
        "\n",
        "Let's improve the plot by considering and designing the plot space.\n",
        "* Label the axes (`xlabel()`, `ylabel()`)\n",
        "* Add a grid (`.grid()`) to improve our ability to perform 'ocular inspection'\n",
        "* We explicitly control the plot size, start considering readability.\n",
        "* Consider color (color = string) to separate the elements, i.e. foreground and background "
      ],
      "metadata": {
        "id": "VCIn5lGN9Biz"
      }
    },
    {
      "cell_type": "code",
      "source": [
        "plt.hist(x=por, color='red')\n",
        "plt.xlabel('Porosity (%)')\n",
        "plt.ylabel('Frquency')\n",
        "plt.title('Porosity Histogram')\n",
        "plt.grid()\n",
        "\n",
        "plt.subplots_adjust(left=0.0,bottom=0.0,right=1.0,top=1.1)\n",
        "plt.show()"
      ],
      "metadata": {
        "id": "B_N9gO6k8jFX"
      },
      "execution_count": null,
      "outputs": []
    },
    {
      "cell_type": "markdown",
      "source": [
        "### **Compose the Elements**\n",
        "\n",
        "Let's consider how we can combine all the elements to improve clarity.\n",
        "* Outline the histogram bars (edgecolor = string) to separate the binning of the data.\n",
        "* Use transparency (alpha < 1.0) to further improve the 'ocular inspection'"
      ],
      "metadata": {
        "id": "g_cevL9_-tXp"
      }
    },
    {
      "cell_type": "code",
      "source": [
        "plt.hist(alpha=0.2, edgecolor='black', x=por, color='red')\n",
        "plt.xlabel('Porosity (%)')\n",
        "plt.ylabel('Frquency')\n",
        "plt.title('Porosity Histogram')\n",
        "plt.grid()\n",
        "\n",
        "plt.subplots_adjust(left=0.0,bottom=0.0,right=1.0,top=1.1)\n",
        "plt.show()"
      ],
      "metadata": {
        "id": "XwB6rNSt-idP"
      },
      "execution_count": null,
      "outputs": []
    },
    {
      "cell_type": "markdown",
      "source": [
        "### **Improve the Consistency Between Elements**\n",
        "\n",
        "Let's improve the consistency of the plot elements \n",
        "* Specify the axes' extents (`.xlim()`, `.ylim()`) and align yaxex increments with integer frequency.\n",
        "* Only show the grid on y and add a minor grid and ticks for readability."
      ],
      "metadata": {
        "id": "dDW6K3FC_nWJ"
      }
    },
    {
      "cell_type": "code",
      "source": [
        "plt.hist(bins=np.linspace(0,30,20), alpha=0.2, edgecolor='k', x=por, color='red')\n",
        "plt.xlabel('Porosity (%)')\n",
        "plt.ylabel('Frquency')\n",
        "plt.title('Porosity Histogram')\n",
        "\n",
        "plt.xlim(0,30)\n",
        "plt.ylim(0,80)\n",
        "plt.gca().yaxis.grid(True, which='major', linewidth=1.0)\n",
        "plt.gca().yaxis.grid(True, which='minor', linewidth=0.2)\n",
        "plt.gca().tick_params(which='major', length=7)\n",
        "plt.gca().tick_params(which='minor', length=4)\n",
        "plt.gca().xaxis.set_minor_locator(AutoMinorLocator())\n",
        "plt.gca().yaxis.set_minor_locator(AutoMinorLocator())\n",
        "\n",
        "plt.subplots_adjust(left=0.0,bottom=0.0,right=1.0,top=1.1)\n",
        "plt.show() \n"
      ],
      "metadata": {
        "id": "NYHNt1RSPMlj"
      },
      "execution_count": null,
      "outputs": []
    },
    {
      "cell_type": "markdown",
      "source": [
        "### **Histogram Ultimate Control**\n",
        "\n",
        "Let's further improve the consistency between our plot elements and add hierarchy to the labels.\n",
        "\n",
        "* Specify the histogram bins (bins=list), grid and ticks to align with histogram bins.\n",
        "* Adjust the font sizes (fontsize = float)"
      ],
      "metadata": {
        "id": "bV9RlAdAQ3q7"
      }
    },
    {
      "cell_type": "code",
      "source": [
        "plt.hist(bins=np.linspace(0,30,31), alpha = 0.3, edgecolor='b', x=por, color='red')\n",
        "plt.gca().tick_params(which='major', length=7)\n",
        "plt.gca().tick_params(which='minor', length=4)\n",
        "plt.gca().yaxis.grid(True, which='major', linewidth=1.0)\n",
        "plt.gca().yaxis.grid(True, which='minor', linewidth=0.2)\n",
        "plt.xlabel('Porosity (%)', fontsize=15)\n",
        "plt.ylabel('Frequency', fontsize=15)\n",
        "plt.title('Porosity Histogram', fontsize=20)\n",
        "plt.xlim(0,30)\n",
        "plt.ylim(0,45)\n",
        "\n",
        "plt.gca().xaxis.set_major_locator(MultipleLocator(1))\n",
        "plt.gca().yaxis.set_minor_locator(MultipleLocator(1))\n",
        "plt.gca().yaxis.set_major_locator(MultipleLocator(5))\n",
        "\n",
        "plt.subplots_adjust(left=0.0,bottom=0.0,right=1.0,top=1.1)\n",
        "plt.show() "
      ],
      "metadata": {
        "id": "i7W3U92tQsfo"
      },
      "execution_count": null,
      "outputs": []
    },
    {
      "cell_type": "markdown",
      "source": [
        "### **Make a Custom plot Formatting Function**\n",
        "\n",
        "This is a lot of code, let's make a custom function to format our histogram.\n",
        "* We could make our function more flexible with the addition of function arguments.\n",
        "* This is helpful for concise workflows, especially when small plots are reused.\n",
        "* We will not discuss the definition and use of **styles**"
      ],
      "metadata": {
        "id": "0n7hL3gfTsdb"
      }
    },
    {
      "cell_type": "code",
      "source": [
        "def format_hist():             # function declaration \n",
        "  plt.xlabel(\"Porosity (%)\", fontsize=15)\n",
        "  plt.ylabel('Frequency', fontsize=15)\n",
        "  plt.title('Porosity Histogram', fontsize=20)\n",
        "  plt.xlim(0,30)\n",
        "  plt.ylim(0,45)\n",
        "  plt.gca().tick_params(which='major', length=7)\n",
        "  plt.gca().tick_params(which='minor', length=4)\n",
        "  plt.gca().yaxis.grid(True, which='major', linewidth=1.0)\n",
        "  plt.gca().yaxis.grid(True, which='minor', linewidth=0.2)\n",
        "  plt.gca().xaxis.set_major_locator(MultipleLocator(1))\n",
        "  plt.gca().yaxis.set_minor_locator(MultipleLocator(1))\n",
        "  plt.gca().yaxis.set_major_locator(MultipleLocator(5))\n",
        "\n",
        "\n",
        "\n"
      ],
      "metadata": {
        "id": "YiJq_gzgUkVT"
      },
      "execution_count": null,
      "outputs": []
    },
    {
      "cell_type": "markdown",
      "source": [
        "### **Histogram with Custom Formatting Function**\n",
        "\n",
        "Let's demonstrate the application of format function\n",
        "* Same result with much less code"
      ],
      "metadata": {
        "id": "dwlOhCYDVmp0"
      }
    },
    {
      "cell_type": "code",
      "source": [
        "plt.hist(bins=np.linspace(0,30,31), alpha=0.2, edgecolor='b', x=por, color='red')\n",
        "format_hist()\n",
        "plt.subplots_adjust(left=0.0, bottom=0.0, top=1.0, right=1.1)\n",
        "plt.show()"
      ],
      "metadata": {
        "id": "EbOXwgEVV3HA"
      },
      "execution_count": null,
      "outputs": []
    },
    {
      "cell_type": "markdown",
      "source": [
        "### **Add a Custom Legend**\n",
        "\n",
        "We may want to communicate key statistics with a custom legend by adding shapes and annotation to our plot.\n"
      ],
      "metadata": {
        "id": "1BF1EuRCWaYW"
      }
    },
    {
      "cell_type": "code",
      "source": [
        "plt.hist(bins=np.linspace(0,30,31), alpha=0.2, edgecolor='b', x=por, color='red')\n",
        "format_hist()\n",
        "plt.gca().add_patch(Rectangle((23.5,33.5), 4.5,9, facecolor='white', edgecolor='black', linewidth=0.5))\n",
        "plt.text(24,40.5, 'Mean ' + str(round(np.average(por),1)))\n",
        "plt.text(24, 38.5, 'P90   ' + str(round(np.percentile(por,90),1)))\n",
        "plt.text(24, 36.5, 'P10   ' + str(round(np.percentile(por,10),1)))\n",
        "plt.text(24, 34.5, \"n       \" + str(por.shape[0]))\n",
        "\n",
        "plt.subplots_adjust(left=0.0, bottom=0.0, top=1.0, right=1.1)\n",
        "plt.show()"
      ],
      "metadata": {
        "id": "2GV8STOxWTSQ"
      },
      "execution_count": null,
      "outputs": []
    },
    {
      "cell_type": "markdown",
      "source": [
        "### **Highlight Data Feature**\n",
        "\n",
        "Let's highlight the summary statistics on the plot with lines.\n"
      ],
      "metadata": {
        "id": "lzAHyqCmZPes"
      }
    },
    {
      "cell_type": "code",
      "source": [
        "plt.hist(bins=np.linspace(0,30,31), alpha=0.2, edgecolor='b', x=por, color='red')\n",
        "format_hist()\n",
        "plt.gca().add_patch(Rectangle((23.5,33.5), 4.5,9, facecolor='white', edgecolor='black', linewidth=0.5))\n",
        "plt.text(24,40.5, 'Mean ' + str(round(np.average(por),1)))\n",
        "plt.text(24, 38.5, 'P90   ' + str(round(np.percentile(por,90),1)))\n",
        "plt.text(24, 36.5, 'P10   ' + str(round(np.percentile(por,10),1)))\n",
        "plt.text(24, 34.5, \"n       \" + str(por.shape[0]))\n",
        "p10 = np.percentile(por,10)\n",
        "avg = np.average(por)\n",
        "p90 = np.percentile(por,90)\n",
        "plt.plot([p10,p10],[0.0,45], color='b', linestyle='dashed')\n",
        "plt.plot([avg,avg],[0.0,45], color='b')\n",
        "plt.plot([p90,p90],[0.0,45], color='b', linestyle='dashed')\n",
        "\n",
        "plt.subplots_adjust(left=0.0, bottom=0.0, top=1.0, right=1.1)\n",
        "plt.show()"
      ],
      "metadata": {
        "id": "o24oxdmHYgTF"
      },
      "execution_count": null,
      "outputs": []
    },
    {
      "cell_type": "markdown",
      "source": [
        "### **From start to end**\n",
        "\n",
        "Let's compare our original and final plot"
      ],
      "metadata": {
        "id": "9YkQicHYaT_7"
      }
    },
    {
      "cell_type": "code",
      "source": [
        "plt.figure(figsize = (10,4))\n",
        "\n",
        "plt.subplot(121)\n",
        "plt.hist(por)\n",
        "\n",
        "plt.subplot(122)\n",
        "plt.hist(bins=np.linspace(0,30,31), alpha=0.2, edgecolor='b', x=por, color='red')\n",
        "format_hist()\n",
        "plt.gca().add_patch(Rectangle((23.7,33.5),4.5,9, facecolor='white', edgecolor='black', linewidth=0.5))\n",
        "plt.text(24, 40.5, 'Mean ' + str(round(np.average(por),1)))\n",
        "plt.text(24, 38.5, 'P90   ' + str(round(np.percentile(por,90),1)))\n",
        "plt.text(24, 36.5, 'P10   ' + str(round(np.percentile(por,10),1)))\n",
        "plt.text(24, 34.5, \"n       \" + str(por.shape[0]))\n",
        "p10 = np.percentile(por,10)\n",
        "avg = np.average(por)\n",
        "p90 = np.percentile(por,90)\n",
        "plt.plot([p10,p10],[0.0,45], color='b', linestyle='dashed')\n",
        "plt.plot([avg,avg],[0.0,45], color='b')\n",
        "plt.plot([p90,p90],[0.0,45], color='b', linestyle='dashed')\n",
        "\n",
        "plt.subplots_adjust(left=0.0, bottom=0.0, top=1.0, right=1.1)\n",
        "plt.show()"
      ],
      "metadata": {
        "id": "5rf6T_VHaJhx"
      },
      "execution_count": null,
      "outputs": []
    },
    {
      "cell_type": "markdown",
      "source": [
        "### **Multiplt plots**\n",
        "\n",
        "Now let's separate the sample by facies element.\n",
        "\n",
        "* Facies 0 - Shalestone\n",
        "* Facies 1 - sandstone"
      ],
      "metadata": {
        "id": "9Qld3e-JbVx3"
      }
    },
    {
      "cell_type": "code",
      "source": [
        "sand = table[table['Facies'] == 1]['Porosity'].values   # extract the sandstone samples\n",
        "shale = table[table['Facies'] == 0]['Porosity'].values  # extract the shalestone samples\n",
        "print('There are ' + str(len(sand)) + ' sandstone samples.' )\n",
        "print('There are ' + str(len(shale)) + ' shalestone samples.')"
      ],
      "metadata": {
        "id": "V7dKqaRkaTk3"
      },
      "execution_count": null,
      "outputs": []
    },
    {
      "cell_type": "markdown",
      "source": [
        "### **Combine Multiple plots with Subplots**\n",
        "\n",
        "We can combine plots with subplots\n",
        "* The subplot specification is $[n_{rows}][n_{columns}][\\text{current_index}]$, current\\_index is from 1 to $n_{rows} \\times n_{columns} $\n",
        "* the index is from the top left and across the columns and then down (like reading a page)"
      ],
      "metadata": {
        "id": "K-dhuOf8ci-N"
      }
    },
    {
      "cell_type": "code",
      "source": [
        "plt.figure(figsize=(10,4))\n",
        "\n",
        "plt.subplot(121)\n",
        "plt.hist(x=sand, color='yellow', alpha = 0.5, edgecolor='k', bins=np.linspace(0,30,31), label='sand')\n",
        "plt.legend()\n",
        "format_hist()\n",
        "\n",
        "plt.subplot(122)\n",
        "plt.hist(x=shale, color='brown', alpha=0.5, edgecolor='k', bins=np.linspace(0,30,31), label='shale')\n",
        "plt.legend()\n",
        "format_hist()\n",
        "\n",
        "plt.subplots_adjust(left=0.0, bottom=0.0, top=1.0, right=1.1, wspace= 0.2)\n",
        "plt.show()"
      ],
      "metadata": {
        "id": "Xj_dN6p5cYoS"
      },
      "execution_count": null,
      "outputs": []
    },
    {
      "cell_type": "markdown",
      "source": [
        "### **Combine Multiple plot within Same plot space**\n",
        "\n",
        "We can combine plot in the same plot space. We do this by adding plots in sequence."
      ],
      "metadata": {
        "id": "oUVkoSlkemJw"
      }
    },
    {
      "cell_type": "code",
      "source": [
        "plt.hist(x=sand, color='yellow', alpha = 0.5, edgecolor='k', bins=np.linspace(0,30,31), label='sand')\n",
        "plt.hist(x=shale, color='brown', alpha=0.5, edgecolor='k', bins=np.linspace(0,30,31), label='shale')\n",
        "plt.legend()\n",
        "format_hist()\n",
        "\n",
        "plt.subplots_adjust(left=0.0, bottom=0.0, top=1.0, right=1.1)\n",
        "plt.show()\n"
      ],
      "metadata": {
        "id": "ZvSJQlwReGs3"
      },
      "execution_count": null,
      "outputs": []
    },
    {
      "cell_type": "markdown",
      "source": [
        "### **Specifying Plot Order**\n",
        "\n",
        "We can use zorder argument to specify the plotting order"
      ],
      "metadata": {
        "id": "RUKEGjzRfMYx"
      }
    },
    {
      "cell_type": "code",
      "source": [
        "plt.figure(figsize=(10,4))\n",
        "\n",
        "plt.subplot(121)\n",
        "plt.hist(zorder=1 ,x=sand, color='yellow', alpha = 1, edgecolor='k', bins=np.linspace(0,30,31), label='sand')\n",
        "plt.hist(zorder=2 ,x=shale, color='brown', alpha=1, edgecolor='k', bins=np.linspace(0,30,31), label='shale')\n",
        "plt.legend()\n",
        "format_hist()\n",
        "\n",
        "plt.subplot(122)\n",
        "plt.hist(zorder=2, x=sand, color='yellow', alpha = 1, edgecolor='k', bins=np.linspace(0,30,31), label='sand')\n",
        "plt.hist(zorder=1, x=shale, color='brown', alpha=1, edgecolor='k', bins=np.linspace(0,30,31), label='shale')\n",
        "plt.legend()\n",
        "format_hist()\n",
        "\n",
        "plt.subplots_adjust(left=0.0, bottom=0.0, top=1.0, right=1.1, wspace= 0.2)\n",
        "plt.show()"
      ],
      "metadata": {
        "id": "1PUB-rKRfei2"
      },
      "execution_count": null,
      "outputs": []
    },
    {
      "cell_type": "markdown",
      "source": [
        "### **Adding PDF to Histogram**\n",
        "\n",
        "We can combine multiple types of plots. Here we add the PDF's estimated with kernel density estimation. "
      ],
      "metadata": {
        "id": "Q4tmWiMLgHuL"
      }
    },
    {
      "cell_type": "code",
      "source": [
        "plt.figure(figsize=(8,4))\n",
        "\n",
        "import seaborn as sns\n",
        "plt.hist(zorder=1 ,x=sand, color='yellow', alpha = 0.5, edgecolor='k', bins=np.linspace(0,30,31), label='sand', density= True)\n",
        "plt.hist(zorder=2 ,x=shale, color='brown', alpha= 0.5, edgecolor='k', bins=np.linspace(0,30,31), label='shale', density= True)\n",
        "sns.kdeplot(x=sand, color='orange', alpha=0.8, levels=1)\n",
        "sns.kdeplot(x=shale, color='black', alpha=0.8, levels=1)\n",
        "plt.legend()\n",
        "plt.xlabel('Porosity (%)')\n",
        "plt.ylabel('Density / Probability')\n",
        "plt.title('Normalized Histogram and PDFs')\n",
        "plt.subplots_adjust(left=0.0, bottom=0.0, top=1.0, right=1.1)\n",
        "plt.show()"
      ],
      "metadata": {
        "id": "tA1-RVHxgCJH"
      },
      "execution_count": null,
      "outputs": []
    },
    {
      "cell_type": "markdown",
      "source": [
        "### **Plotting a Cumulative Distribution Function**\n",
        "\n",
        "It is quite easy to switch from histogram to CDF\n",
        "* We set the cumulative argument to True.\n",
        "* We switch histtype argument to step or stepfilled."
      ],
      "metadata": {
        "id": "lFL6A51dh26B"
      }
    },
    {
      "cell_type": "code",
      "source": [
        "plt.hist(cumulative=True, histtype='stepfilled', x=shale, color='brown', alpha = 1, edgecolor='k', bins=np.linspace(0,30,31), label='shale', density=True )\n",
        "plt.hist(cumulative=True, histtype='stepfilled', x=sand, color='yellow', alpha = 1, edgecolor='k', bins=np.linspace(0,30,31), label='sand', density=True )\n",
        "\n",
        "plt.legend(loc='upper left')\n",
        "plt.xlim(0,30)\n",
        "plt.ylim(0,1)\n",
        "plt.xlabel('Porosity (%)')\n",
        "plt.ylabel('Cumulative Probabilities')\n",
        "plt.title('Cumulative Distribution Function')\n",
        "\n",
        "plt.subplots_adjust(left=0.0,bottom=0.0,right=1.0,top=1.1)\n",
        "plt.show()"
      ],
      "metadata": {
        "id": "e4RON44shhUC"
      },
      "execution_count": null,
      "outputs": []
    },
    {
      "cell_type": "code",
      "source": [],
      "metadata": {
        "id": "3iuty7I2kkmW"
      },
      "execution_count": null,
      "outputs": []
    }
  ]
}