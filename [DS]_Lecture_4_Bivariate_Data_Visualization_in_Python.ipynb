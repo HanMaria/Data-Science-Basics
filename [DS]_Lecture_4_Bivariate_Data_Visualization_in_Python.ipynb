{
  "nbformat": 4,
  "nbformat_minor": 0,
  "metadata": {
    "colab": {
      "private_outputs": true,
      "provenance": []
    },
    "kernelspec": {
      "name": "python3",
      "display_name": "Python 3"
    },
    "language_info": {
      "name": "python"
    }
  },
  "cells": [
    {
      "cell_type": "markdown",
      "source": [
        "# **Data Science Basics in Python Series**"
      ],
      "metadata": {
        "id": "oqi0D8yHmFhW"
      }
    },
    {
      "cell_type": "markdown",
      "source": [
        "## **Lecture 4. Matplotlib for Bivariate Data Visualization in Python**\n",
        "\n",
        "**Michael Pyrcz, Associate Professor, The University of Texas at Austin**"
      ],
      "metadata": {
        "id": "VLesVNUVmFT_"
      }
    },
    {
      "cell_type": "markdown",
      "source": [
        "### **Data Visualization with MatPlotLib in Python for Engineers and Geoscientists**\n"
      ],
      "metadata": {
        "id": "23_aesY4mFLp"
      }
    },
    {
      "cell_type": "markdown",
      "source": [
        "### **Data Visualization**\n",
        "Data visualization includes any graphical representations of the data.\n",
        "\n",
        "We will demonstrate the basic concepts with only:\n",
        "* bivariate distributions with unvariate histograms\n",
        "\n",
        "We will start simple and add more complexity and customization."
      ],
      "metadata": {
        "id": "03wQXFaymfmS"
      }
    },
    {
      "cell_type": "markdown",
      "source": [
        "### **Project Goal**\n",
        "\n",
        "Learn the basic for working with Bivariate Data Visualization in Python to build practical spatial data analytics, geostatistics and machine learning workflows.\n",
        "* Focus on customization and not a survey of available plot times."
      ],
      "metadata": {
        "id": "oFV0gfu-nDq7"
      }
    },
    {
      "cell_type": "markdown",
      "source": [
        "### **Load the Required and Configure Libraries**"
      ],
      "metadata": {
        "id": "FmjHDxptngqv"
      }
    },
    {
      "cell_type": "code",
      "execution_count": null,
      "metadata": {
        "id": "SKC_oOU-l7hx"
      },
      "outputs": [],
      "source": [
        "import os\n",
        "import numpy as np\n",
        "import pandas as pd\n",
        "import matplotlib.pyplot as plt\n",
        "from matplotlib.ticker import (MultipleLocator, AutoMinorLocator)  # control the axes ticks\n",
        "plt.rc('axes', axisbelow=True)\n",
        "from matplotlib.patches import Rectangle\n",
        "import seaborn as sns"
      ]
    },
    {
      "cell_type": "markdown",
      "source": [
        "### **Loading the Dataset**\n",
        "\n",
        "Let's load the tabular dataset with file `.csv` [spatial_nonlinear_MV_facies_v1.csv](https://github.com/GeostatsGuy/GeoDataSets/blob/master/spatial_nonlinear_MV_facies_v1.csv)\n"
      ],
      "metadata": {
        "id": "pKwzHY5-oP8X"
      }
    },
    {
      "cell_type": "code",
      "source": [
        "df = pd.read_csv(r'https://raw.githubusercontent.com/GeostatsGuy/GeoDataSets/master/nonlinear_facies_v1.csv')\n",
        "df = df.iloc[:,1:]  # remove the first feature\n",
        "\n",
        "print('The tabular data is a ' + str(type(df)) + ' with a ' + str(len(df))+ ' samples.')\n",
        "df.head()"
      ],
      "metadata": {
        "id": "4bxvUvXKoM4K"
      },
      "execution_count": null,
      "outputs": []
    },
    {
      "cell_type": "markdown",
      "source": [
        "### **Extract the Feature from the table**\n",
        "\n",
        "I do this concise and readablle code"
      ],
      "metadata": {
        "id": "2KHmktAxpPFY"
      }
    },
    {
      "cell_type": "code",
      "source": [
        "por = df['Por'].values\n",
        "perm = df['Perm'].values\n",
        "\n",
        "print('The por is a ' + str(type(por)) + ' of shape' + str(por.shape) + '.')\n",
        "print('The perm is a ' + str(type(perm)) + \" of shape\" + str(perm.shape) + '.' )"
      ],
      "metadata": {
        "id": "I5qieDORpLJc"
      },
      "execution_count": null,
      "outputs": []
    },
    {
      "cell_type": "markdown",
      "source": [
        "### **Summary Statistics for Plotting**\n",
        "\n",
        "Let's calculate the minimum and maximum values for each feature and assign a good range for plotting"
      ],
      "metadata": {
        "id": "UGS6ZQaUU1nm"
      }
    },
    {
      "cell_type": "code",
      "source": [
        "print('The porosity range is [' + str(np.min(por)) + ',' + str(np.max(por)) + '].')\n",
        "print('The permeability range is [' + str(np.min(perm)) + ',' + str(np.max(perm)) + '].')\n",
        "pormin = 0.0; pormax = 32.0\n",
        "permmin = 0.0; permmax = 1350.0"
      ],
      "metadata": {
        "id": "XjL8z76BVNv8"
      },
      "execution_count": null,
      "outputs": []
    },
    {
      "cell_type": "markdown",
      "source": [
        "### **Unvariate**\n",
        "\n",
        "Let's start with unvariate, the basic histogram plots for each of two features"
      ],
      "metadata": {
        "id": "N-w4YnXaWFnV"
      }
    },
    {
      "cell_type": "code",
      "source": [
        "plt.subplot(121)\n",
        "plt.hist(x=por, edgecolor='k', bins=np.linspace(pormin,pormax,11), color='red', alpha=0.2)\n",
        "plt.xlim([pormin, pormax])\n",
        "plt.xlabel('Porosity (%)')\n",
        "plt.ylabel('Frequency')\n",
        "plt.title('Porosity Histogram')\n",
        "plt.grid(axis='y')\n",
        "\n",
        "plt.subplot(122)\n",
        "plt.hist(x=perm, edgecolor='k', bins=np.linspace(permmin, permmax,11), color='red', alpha=0.2)\n",
        "plt.xlim([permmin, permmax])\n",
        "plt.xlabel('Permeability (mD)')\n",
        "plt.ylabel('Frequency')\n",
        "plt.title('Permeability Histogram')\n",
        "plt.grid(axis='y')\n",
        "\n",
        "plt.subplots_adjust(left=0.0, bottom=0.0, right = 2.0, top=1.1)\n",
        "plt.show()"
      ],
      "metadata": {
        "id": "5CKPWKvUWPvS"
      },
      "execution_count": null,
      "outputs": []
    },
    {
      "cell_type": "markdown",
      "source": [
        "Interesting, the two features have distinctly different distribution\n",
        "* porosity is symmetric while permeability is positively skewed"
      ],
      "metadata": {
        "id": "-ms7nHDbYLOE"
      }
    },
    {
      "cell_type": "markdown",
      "source": [
        "### **Scatter plot**\n",
        "\n",
        "Let's now look at the relationship between two feature\n"
      ],
      "metadata": {
        "id": "0uAx6al9YevN"
      }
    },
    {
      "cell_type": "code",
      "source": [
        "plt.scatter(x=por, y=perm)"
      ],
      "metadata": {
        "id": "H5sAkKAvX3pH"
      },
      "execution_count": null,
      "outputs": []
    },
    {
      "cell_type": "markdown",
      "source": [
        "This is an interesting dataset\n",
        "* nonlinear, heteroscedastic, multiple populations"
      ],
      "metadata": {
        "id": "Yq4jTl5Fa9q_"
      }
    },
    {
      "cell_type": "markdown",
      "source": [
        "### **Design the Plot space**\n",
        "\n",
        "Let's improve the plot by considering and designing the plot space\n",
        "* Label the axes (`x.label()`, `y.label()`)\n",
        "* Add a grid (`.grid()`) to improve our ability to perform 'ocular inspection'\n",
        "* We explicitly control the plot size, start considering readability\n",
        "* Consider color (color=string) to separate elements, i.e. for instance foreground and background"
      ],
      "metadata": {
        "id": "mewHfpWLbNSj"
      }
    },
    {
      "cell_type": "code",
      "source": [
        "plt.scatter(x=por,y=perm, color='red')\n",
        "plt.xlabel('Porosity (%)')\n",
        "plt.ylabel('Permeability (mD)')\n",
        "plt.title('Permeability - Porosity Scatter Plot')\n",
        "plt.grid()\n",
        "\n",
        "plt.subplots_adjust(left=0.0, bottom=0.0, top=1.1, right=1.0)\n",
        "plt.show()"
      ],
      "metadata": {
        "id": "krDgVkqYcHmZ"
      },
      "execution_count": null,
      "outputs": []
    },
    {
      "cell_type": "markdown",
      "source": [
        "### **Compose the Elements**\n",
        "\n",
        "Let's think more about how we can combine all the elements to improve clarity\n",
        "* Outline the data points (edgecolor = string) to better separate the data.\n",
        "* Use transparency (alpha < 1.0) to further improve our perception of relative data density, joint probability."
      ],
      "metadata": {
        "id": "HP8WzwdOc0m2"
      }
    },
    {
      "cell_type": "code",
      "source": [
        "plt.scatter(x=por,y=perm, color='red', edgecolor='k', alpha=0.1)\n",
        "plt.xlabel('Porosity (%)')\n",
        "plt.ylabel('Permeability (mD)')\n",
        "plt.title('Permeability - Porosity Scatter Plot')\n",
        "plt.grid()\n",
        "\n",
        "plt.subplots_adjust(left=0.0, bottom=0.0, top=1.1, right=1.0)\n",
        "plt.show()"
      ],
      "metadata": {
        "id": "qLieMOOscrO8"
      },
      "execution_count": null,
      "outputs": []
    },
    {
      "cell_type": "markdown",
      "source": [
        "### **Improve the Consistency between Elements**\n",
        "\n",
        "Let's improve the consistency of the plot elements\n",
        "* Specify the axes' extent (`x.lim()`, `y.lim()`) and align y axes increaments with integer frequency\n",
        "* Add a minor grid and ticks for readability"
      ],
      "metadata": {
        "id": "IUV2PmNqdzJF"
      }
    },
    {
      "cell_type": "code",
      "source": [
        "plt.scatter(x=por, y=perm, edgecolor='k', color='red', alpha=0.1)\n",
        "plt.xlabel('Porosity (%)')\n",
        "plt.ylabel('Permeability (mD)')\n",
        "plt.title('Porosity - Permeability scatter plot')\n",
        "plt.xlim([pormin, pormax])\n",
        "plt.ylim([permmin, permmax])\n",
        "\n",
        "plt.gca().grid(True, which='major', linewidth=1.0)\n",
        "plt.gca().grid(True, which='minor', linewidth=0.2)\n",
        "plt.gca().tick_params(which='major', length=7)\n",
        "plt.gca().tick_params(which='minor', length=4)\n",
        "plt.gca().xaxis.set_minor_locator(AutoMinorLocator())\n",
        "plt.gca().yaxis.set_minor_locator(AutoMinorLocator())\n",
        "\n",
        "plt.subplots_adjust(left=0.0, bottom=0.0, right=1.0, top=1.1)\n",
        "plt.show()"
      ],
      "metadata": {
        "id": "DIshcBY1dn3y"
      },
      "execution_count": null,
      "outputs": []
    },
    {
      "cell_type": "markdown",
      "source": [
        "### **Make a Custom plot function**\n",
        "\n",
        "We have a good plot now, but it requires quite a bit of code\n",
        "* We can make a convenient function to make this plot for any dataset."
      ],
      "metadata": {
        "id": "TAY3wQ-ylTSO"
      }
    },
    {
      "cell_type": "code",
      "source": [
        "def my_scatterplot(x,xmin,xmax,xlabel,y,ymin,ymax,ylabel,title):\n",
        "  plt.scatter(x=x,y=y,s=15,color='red',edgecolor='k', alpha=0.05)\n",
        "  plt.xlabel(xlabel)\n",
        "  plt.ylabel(ylabel)\n",
        "  plt.title(title)\n",
        "  plt.xlim([xmin,xmax])\n",
        "  plt.ylim([ymin,ymax])\n",
        "  plt.grid()\n",
        "\n",
        "  plt.gca().grid(True,which='major',linewidth=1.0)\n",
        "  plt.gca().grid(True,which='minor',linewidth=0.2)\n",
        "  plt.gca().tick_params(which='major',length=7)\n",
        "  plt.gca().tick_params(which='minor',length=4)\n",
        "  plt.gca().xaxis.set_minor_locator(AutoMinorLocator())\n",
        "  plt.gca().yaxis.set_minor_locator(AutoMinorLocator())\n",
        "\n",
        "print('my_scatterplot is a ' + str(type(my_scatterplot)) + '.')"
      ],
      "metadata": {
        "id": "8E1iwr27k2vZ"
      },
      "execution_count": null,
      "outputs": []
    },
    {
      "cell_type": "markdown",
      "source": [
        "Now, let's try out our custom plot function"
      ],
      "metadata": {
        "id": "v2NnN4lPnVcL"
      }
    },
    {
      "cell_type": "code",
      "source": [
        "my_scatterplot(por,pormin,pormax,'Porosity (%)',perm,permmin,permmax,'Permeability (mD)','Porosity-Permeability scatter plot')\n",
        "plt.subplots_adjust(left=0.0,bottom=0.0,right=1.0,top=1.1)\n",
        "plt.show()"
      ],
      "metadata": {
        "id": "rUL9qOV7m2D-"
      },
      "execution_count": null,
      "outputs": []
    },
    {
      "cell_type": "markdown",
      "source": [
        "### **Adding a $3^{rd}$ Dimension**\n",
        "\n",
        "Of course, we can plot the facies categorical feature to observe the mixture of 3 distinct populations"
      ],
      "metadata": {
        "id": "Rw2kuc6Gn9eS"
      }
    },
    {
      "cell_type": "code",
      "source": [
        "scatter = plt.scatter(x=por,y=perm,c=df['Facies'],edgecolor='k', alpha=0.1, cmap=plt.cm.Dark2, label=['Sand','Mixed','Shale'])\n",
        "plt.xlabel('Porosity (%)')\n",
        "plt.ylabel('Permeability (mD)')\n",
        "plt.title('Porosity - Permeability Scatter plot')\n",
        "plt.xlim([pormin, pormax])\n",
        "plt.ylim([permmin,permmax])\n",
        "plt.grid()\n",
        "\n",
        "legend = plt.gca().legend(*scatter.legend_elements(), loc='lower right', title='Facies')\n",
        "plt.gca().add_artist(legend)\n",
        "\n",
        "plt.gca().grid(True,which='major',linewidth=1.0)\n",
        "plt.gca().grid(True,which='minor',linewidth=0.2)\n",
        "plt.gca().tick_params(which='major',length=7)\n",
        "plt.gca().tick_params(which='minor',length=4)\n",
        "plt.gca().xaxis.set_minor_locator(AutoMinorLocator())\n",
        "plt.gca().yaxis.set_minor_locator(AutoMinorLocator())\n",
        "\n",
        "plt.subplots_adjust(left=0.0, bottom=0.0,right=1.0, top=1.1)\n",
        "plt.show()\n"
      ],
      "metadata": {
        "id": "urePiXUzn0_Z"
      },
      "execution_count": null,
      "outputs": []
    },
    {
      "cell_type": "markdown",
      "source": [
        "### **Bivarate Conditional Distributions**\n",
        "\n",
        "It is often useful to calculate conditional statistics with respect to the other feature binned. First we make our bins over porosity."
      ],
      "metadata": {
        "id": "1WG4Ja-BrbN5"
      }
    },
    {
      "cell_type": "code",
      "source": [
        "nbins = 8\n",
        "por_bins = np.linspace(pormin, pormax, nbins)  # set the bin boundaries and then the centroid for plotting\n",
        "por_centroids = np.linspace((por_bins[0] + por_bins[1])*0.5, (por_bins[nbins-2] + por_bins[nbins-1])*0.5, nbins-1)\n",
        "df['por_bins'] = pd.cut(df['Por'],por_bins, labels=por_centroids)   # cut on the boundaries and labels with centroids\n",
        "df.head()"
      ],
      "metadata": {
        "id": "4SFmva7Dpven"
      },
      "execution_count": null,
      "outputs": []
    },
    {
      "cell_type": "markdown",
      "source": [
        "Then we calculate the conditional statistics and add to our custom plot"
      ],
      "metadata": {
        "id": "JFCK0hYitux7"
      }
    },
    {
      "cell_type": "code",
      "source": [
        "# Calculate the conditonal statistics\n",
        "cond_exp = df.groupby('por_bins')['Perm'].mean()\n",
        "cond_P10 = df.groupby('por_bins')['Perm'].quantile(.1)\n",
        "cond_P90 = df.groupby('por_bins')['Perm'].quantile(.9)\n",
        "\n",
        "my_scatterplot(por,pormin,pormax,'Porosity (%)',perm,permmin,permmax,'Permeability (mD)','Porosity - Permeability scatter plot')\n",
        "plt.plot(por_centroids, cond_exp, color='black',label='Expectation')\n",
        "plt.scatter(por_centroids,cond_exp,color='red',edgecolor='k',zorder=10)\n",
        "plt.plot(por_centroids, cond_P90, 'r--',color='black', linewidth=1.0,label='P90')\n",
        "plt.plot(por_centroids, cond_P10, 'r-.',color='black', linewidth=1.0,label='P10')\n",
        "plt.legend(loc='lower right')\n",
        "plt.subplots_adjust(left=0.0,bottom=0.0,right=1.0,top=1.1)\n",
        "plt.show()"
      ],
      "metadata": {
        "id": "Mp1L-NX8tIsJ"
      },
      "execution_count": null,
      "outputs": []
    },
    {
      "cell_type": "markdown",
      "source": [
        "### **Bivariate Joint Distributions**\n",
        "\n",
        "We may want to visualize the bivariate joint distributions in our data. We can use the `seaborn` Python package to accomplish this with kernel density estimate plot.\n",
        "\n"
      ],
      "metadata": {
        "id": "J9ahrsYBvzdQ"
      }
    },
    {
      "cell_type": "code",
      "source": [
        "sns.kdeplot(data=df,x='Por',y='Perm',cmap=sns.color_palette('inferno',as_cmap=True),\n",
        "            levels=np.linspace(0.05,0.9,10),bw_adjust=0.3, label='Train Density',\n",
        "            cbar=True,shade=True) # estimate join PDF\n",
        "plt.scatter(x=por,y=perm,s=10,marker='o',color='black',alpha=0.1)  # add the data scatter plot\n",
        "plt.xlabel('Porosity (%)')\n",
        "plt.ylabel('Permeability (mD)')\n",
        "plt.title('Porosity - Permeability, Joint Density Plot')\n",
        "plt.xlim([pormin, pormax])\n",
        "plt.ylim([permmin, permmax])\n",
        "plt.grid()\n",
        "\n",
        "plt.subplots_adjust(left=0.0,bottom=0.0,right=1.0,top=1.1)\n",
        "plt.show()"
      ],
      "metadata": {
        "id": "3e4dipYOwKWF"
      },
      "execution_count": null,
      "outputs": []
    },
    {
      "cell_type": "markdown",
      "source": [
        "### **Bivariate Marginals and Joint Distributions**\n",
        "\n",
        "We may also want to visualize the bivariate marginals and joint distributions together. We can use python `seaborn` package to accomplish this with a joint plot."
      ],
      "metadata": {
        "id": "_uoWv6slyvd1"
      }
    },
    {
      "cell_type": "code",
      "source": [
        "sns.jointplot(x='Por',y='Perm',data=df, kind='kde', xlim=[pormin,pormax],ylim=[permmin,permmax],\n",
        "              shade=False,n_levels=10,cmap=plt.cm.inferno, thresh=0.01)\n",
        "plt.subplots_adjust(left=0.0,bottom=0.0,right=1.0,top=1.1)\n",
        "plt.show()"
      ],
      "metadata": {
        "id": "S-dVaC73xzIx"
      },
      "execution_count": null,
      "outputs": []
    },
    {
      "cell_type": "markdown",
      "source": [
        "### **Bivariate Marginals and Joint Distributions with Multiple Populations**\n",
        "\n",
        "Let's repeat the previous bivariate plot with separate populations, facies"
      ],
      "metadata": {
        "id": "gwHeHiy-z_B2"
      }
    },
    {
      "cell_type": "code",
      "source": [
        "sns.jointplot(x='Por',y='Perm',data=df,kind='kde',hue='Facies',\n",
        "              xlim=[pormin,pormax],ylim=[permmin,permmax],palette=plt.cm.Dark2\n",
        "              )\n",
        "plt.subplots_adjust(left=0.0,bottom=0.0,right=1.0,top=1.1)\n",
        "plt.show()"
      ],
      "metadata": {
        "id": "NiLd9ja2zvoB"
      },
      "execution_count": null,
      "outputs": []
    },
    {
      "cell_type": "markdown",
      "source": [
        "### **Bivariate Binned Marginals and Joint Distributions**\n",
        "\n",
        "Finally, we can bin the bivariate marginals and Joint distributions."
      ],
      "metadata": {
        "id": "eSyow-fC0_f7"
      }
    },
    {
      "cell_type": "code",
      "source": [
        "sns.jointplot(x='Por',y='Perm',data=df,kind='hist',xlim=[pormin,pormax],ylim=[permmin,permmax])\n",
        "plt.subplots_adjust(left=0.0,bottom=0.0,right=1.0,top=1.1)\n",
        "plt.show()"
      ],
      "metadata": {
        "id": "jwoQzWiM0xzZ"
      },
      "execution_count": null,
      "outputs": []
    },
    {
      "cell_type": "markdown",
      "source": [
        "### **Conclusion**\n",
        "\n",
        "This was the basic overview of bivariate visualization for data science basic in Python."
      ],
      "metadata": {
        "id": "_-IwOq0n1oiK"
      }
    }
  ]
}