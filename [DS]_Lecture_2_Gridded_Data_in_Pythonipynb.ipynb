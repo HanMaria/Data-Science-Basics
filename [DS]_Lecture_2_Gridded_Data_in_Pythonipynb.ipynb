{
  "nbformat": 4,
  "nbformat_minor": 0,
  "metadata": {
    "colab": {
      "private_outputs": true,
      "provenance": []
    },
    "kernelspec": {
      "name": "python3",
      "display_name": "Python 3"
    },
    "language_info": {
      "name": "python"
    }
  },
  "cells": [
    {
      "cell_type": "markdown",
      "source": [
        "# **Data Science Basics in Python Series**"
      ],
      "metadata": {
        "id": "mW7ZEXtmklM4"
      }
    },
    {
      "cell_type": "markdown",
      "source": [
        "## **Chapter 2: NumPy ndarrays for working with Gridded Data in Python**\n",
        "\n",
        "**Lecture from: Michael Pyrcz, Associate Professor, The University of Texas at Austin**\n",
        "\n",
        "*Novel Data Analytics, Geostatistics and Machine Learning Subsurface Solutions*"
      ],
      "metadata": {
        "id": "O-i48_SrkseG"
      }
    },
    {
      "cell_type": "markdown",
      "source": [
        "### **Regular Gridded Data Structures/ndarrays in Python for Engineers and Geoscientists**\n",
        "\n",
        "This is a tutorial for/demonstration of **Regular Gridded Data Structures in Python**. In Python, a common tool for dealing with Regular Gridded Data Structures is the *ndarray* from the **Numpy Python Package**\n",
        "* Harris, C.R., Millman, K.J., van der Walt, S.J. et al. Array programming with NumPy. Nature 585, 357–362 (2020). DOI: 0.1038/s41586-020-2649-2. [Nature paper](https://www.nature.com/articles/s41586-020-2649-2)\n",
        "\n",
        "This tutorial includes the methods and operations that would commonly be required for Engineers and Geoscientists working with Regular Gridded Data Structures for the purpose of:\n",
        "* Data checking and Cleaning\n",
        "* Data mining/Inferential Data Analysis\n",
        "* Predictive Modeling\n",
        "\n",
        "for Data Analytics, Geostatistics and Machine Learning."
      ],
      "metadata": {
        "id": "q5AInzGaklA7"
      }
    },
    {
      "cell_type": "markdown",
      "source": [
        "### **Gridded Data Structures**\n",
        "\n",
        "In Python, we commonly store our data in two formats, tables and arrays. For sample data with typically multiple feature $1,\\dots,m$ over $1,\\dots,n$ samples we will work with tables. For ehxaustive, 2D maps and 3D models (usually representing a single feature) on a regular grid over $[1,\\dots,n],[1,\\dots,n_2],[1,\\dots,n_{dim}]$ where $n_{dim}$ is the number of dimensions, we will work with arrays.\n",
        "* It is always possible to add another dimension to our array to include multiple features $1,2,\\dots,m$ over all locations, and to work in 2D, 3D, and beyond!\n",
        "\n",
        "|              | $ix = 0$    | $ix = 1$    |        | $ix = n_x - 1$  |\n",
        "| -----------  | ----------- | ----------- | ----------- | ---------  |\n",
        "| $iy = 0$     | $z[iy,ix]$  | $z[iy,ix]$  | $\\ldots$   | $z[iy,ix]$ |\n",
        "| $iy = 1$     | $z[iy,ix]$  | $z[iy,ix]$  | $\\ldots$   | $z[iy,ix]$ |\n",
        "| $\\ldots$     | $\\ldots$    | $\\ldots$    | $\\ldots$   | $\\ldots$   |\n",
        "| $iy = n_y-1$ | $z[iy,ix]$  | $z[iy,ix]$  | $\\ldots$   | $z[iy,ix]$ |\n",
        "\n",
        "In geostatistical workflows the tables are typically sample data from wells and drill holes and the grids are interpolated or simulated model or secondary data from sources such as seismic inversion.\n",
        "\n",
        "The Numpy package provides a convinient package *ndarray* object for working with regular gridded data structures. In the following tutorial we will focus on practical methods with *ndarrays*."
      ],
      "metadata": {
        "id": "iQ7YoWm2nmxc"
      }
    },
    {
      "cell_type": "markdown",
      "source": [
        "### **Project Goal**\n",
        "Learn the basics for working with Regular Gridded Data Structures in Python to build practical spatial data analytics, geostatistics and machine learning workflows."
      ],
      "metadata": {
        "id": "-K2ALIyUrQ6P"
      }
    },
    {
      "cell_type": "markdown",
      "source": [
        "### **Load the required Libraries**"
      ],
      "metadata": {
        "id": "ovKhFbW0tH8S"
      }
    },
    {
      "cell_type": "code",
      "execution_count": null,
      "metadata": {
        "id": "mToMKhWxkZfi"
      },
      "outputs": [],
      "source": [
        "import os\n",
        "import numpy as np\n",
        "import matplotlib.pyplot as plt\n",
        "from scipy import stats             # summary statistics"
      ]
    },
    {
      "cell_type": "markdown",
      "source": [
        "### **Laoding binary data to an ndarray**\n",
        "\n",
        "Let's load the 2D porosity map from the provide bibary file [porosity_truth_map.dat](https://github.com/GeostatsGuy/GeoDataSets/blob/master/porosity_truth_map.dat).  \n",
        "* This binary file was created with the Numpy ndarray member function \"tofile\".\n",
        "* The binary file does not store any information about the array. So when we read our 2D porosity map we get a 1D array of porosity values."
      ],
      "metadata": {
        "id": "E4mRKl19tflw"
      }
    },
    {
      "cell_type": "code",
      "source": [
        "porosity_1d_array = np.fromfile('/content/porosity_truth_map.dat')\n",
        "print('porosity_1d_array is a ' + str(type(porosity_1d_array)) + '.')"
      ],
      "metadata": {
        "id": "kJ9lqFTPuu73"
      },
      "execution_count": null,
      "outputs": []
    },
    {
      "cell_type": "markdown",
      "source": [
        "### **Preview ndarrays**\n",
        "Entering the name of the ndarray will return the values of the array."
      ],
      "metadata": {
        "id": "FP0-4nwpvvoj"
      }
    },
    {
      "cell_type": "code",
      "source": [
        "porosity_1d_array"
      ],
      "metadata": {
        "id": "pZBpIjv5vu9K"
      },
      "execution_count": null,
      "outputs": []
    },
    {
      "cell_type": "markdown",
      "source": [
        "### **Preview ndarrays**\n",
        "\n",
        "Notice that Numpy constrains the number of displayed elements.\n",
        "* This prevent us from attempting an impractical visulization of a large number of elements.\n",
        "* We can use Numpy's set_printoption() function to control the printing of arrays. \n",
        "* **precision** is the number of decimals, **threshold** is the number elements to trigger summarization."
      ],
      "metadata": {
        "id": "ujFpEbIxwhR-"
      }
    },
    {
      "cell_type": "code",
      "source": [
        "#np.set_printoptions(precision = 3, threshold = 1.0e10)      # remove truncation from array visualization\n",
        "np.set_printoptions(precision = 3, threshold = 100)            # remove truncation from array visualization\n",
        "porosity_1d_array"
      ],
      "metadata": {
        "id": "sFgMyB1JxWml"
      },
      "execution_count": null,
      "outputs": []
    },
    {
      "cell_type": "markdown",
      "source": [
        "### **Check the size and dimension of the array**\n",
        "\n",
        "Now we have an ndarray to work with. Let's check the shape:\n",
        "* The ndarray member [my_ndarray].shape() stores the number of dimensions and the size in each dimension in a tuple (an immutable list).\n",
        "* Note, the original map is a 100x100 2D ndarrays so we load it from binary as a 10000x1 1D ndarray."
      ],
      "metadata": {
        "id": "w6OtY4znwkS0"
      }
    },
    {
      "cell_type": "code",
      "source": [
        "porosity_1d_array.shape # shape and number of dimension"
      ],
      "metadata": {
        "id": "nTJjIcxCvGSs"
      },
      "execution_count": null,
      "outputs": []
    },
    {
      "cell_type": "markdown",
      "source": [
        "### **Reshape ndarrays**\n",
        "\n",
        "We use the member function [my_ndarray].reshape() to restore the loaded 1D ndarray to a 2D ndarray\n",
        "* The inputs are the original array and the new shape as int or tuple of ints.\n",
        "* In 2D the standard Python order is left to right for each row from top to bottom.\n",
        "* It is possible to set the order = 'C' for C-like index or 'F' for Fortran index."
      ],
      "metadata": {
        "id": "Bd8DSiOGzMK5"
      }
    },
    {
      "cell_type": "code",
      "source": [
        "porosity_map = np.reshape(porosity_1d_array, [100,100])  # reshape the array to 100x100\n",
        "print('The porosity map has a shape '+ str(porosity_map.shape) + '.')\n",
        "ny = porosity_map.shape[0]\n",
        "nx = porosity_map.shape[1]\n",
        "print('Our 2D array has number of x cells = ' + str(nx) + ' and y cells = ' + str(ny) + '.')"
      ],
      "metadata": {
        "id": "oE10YJh0zBKt"
      },
      "execution_count": null,
      "outputs": []
    },
    {
      "cell_type": "markdown",
      "source": [
        "### **Flatten ndarrays**\n",
        "\n",
        "There are times that you want to \"flatten\" a multidimensional array to 1D ndarrays.\n",
        "\n",
        "* There is a member function [my_ndarray].flatten() to do this.\n",
        "* We lose the information endianness, but in some cases that is desirable.\n",
        "* For example when finding the minimum value over the ndarray or plotting a histogram."
      ],
      "metadata": {
        "id": "vIIJDiM35iN3"
      }
    },
    {
      "cell_type": "code",
      "source": [
        "flatten_porosity_map = porosity_1d_array.flatten()        # flatten the 2D map\n",
        "print('The flatten porosity map has a shape ' + str(flatten_porosity_map.shape) + '.')\n"
      ],
      "metadata": {
        "id": "3nWaOsfd5baZ"
      },
      "execution_count": null,
      "outputs": []
    },
    {
      "cell_type": "markdown",
      "source": [
        "### **Read and Write Binary Files**\n",
        "\n",
        "Let's close the loop, write out the array and read it back in, to demonstrate the ndarray ouput member function `[my_ndarray].tofile()`.\n",
        "* We save the map as binary, read and back in.\n",
        "* We compare the 2 ndarrays with the Numpy function `np.array_equal()`\n",
        "* Note we reshape the loaded ndarray, recall the dimension (2D was lost in the save to a binary file)."
      ],
      "metadata": {
        "id": "Ff7Hbx_o65RZ"
      }
    },
    {
      "cell_type": "code",
      "source": [
        "porosity_map.tofile('porosity_test.dat')           # save our 2D array to 1D binary file\n",
        "porosity_test = np.fromfile('porosity_test.dat')   # read the 1D binary back to 1D array\n",
        "check = np.array_equal(porosity_map, np.reshape(porosity_test,[100,100]))  # check if loaded = saved\n",
        "print('Is the array we wrote out and read back in the same as the original array? ' + str(check) + '.' )"
      ],
      "metadata": {
        "id": "smS_1oT-6w3i"
      },
      "execution_count": null,
      "outputs": []
    },
    {
      "cell_type": "markdown",
      "source": [
        "### **Write ASCII Comma Delimited Files**\n",
        "\n",
        "Let's write our map to an comma delimited ASCII file (*.csv)\n",
        "* These files are readible in any text editor.\n",
        "* These files are easy to load in Excel.\n",
        "* We can specify any delimiter, a space is default."
      ],
      "metadata": {
        "id": "q4WzZz6dQU-U"
      }
    },
    {
      "cell_type": "code",
      "source": [
        "np.savetxt(\"porosity_map.csv\", porosity_map, delimiter=',')  # save our 2D array to 2D comma delimited"
      ],
      "metadata": {
        "id": "dOED5_kv88Wh"
      },
      "execution_count": null,
      "outputs": []
    },
    {
      "cell_type": "markdown",
      "source": [
        "### **Read ASCII Comma Delimited Files**\n",
        "\n",
        "Now, we can load the 2D map back in and confirm that we have the same ndarray that we started with.\n",
        "\n",
        "* When we save a 2D ndarray to an ASCII file we retain the shape, indexing"
      ],
      "metadata": {
        "id": "4HPgHHJ9RZBv"
      }
    },
    {
      "cell_type": "code",
      "source": [
        "porosity_map_test = np.loadtxt(\"porosity_map.csv\", delimiter=',')  # load the csv\n",
        "test = np.array_equal(porosity_map, porosity_map_test)             # check if the arrays are the same\n",
        "print('Is the array we wrote out and read back in the same as the original array? ' + str(test) + '.')\n",
        "print('The loaded array has a shape ' + str(porosity_map_test.shape) + '.')"
      ],
      "metadata": {
        "id": "pFO2yD5JSAoP"
      },
      "execution_count": null,
      "outputs": []
    },
    {
      "cell_type": "markdown",
      "source": [
        "### **Read and Write Geo-EAS files - Optional, Depends on GeostatsPy Package**\n",
        "\n",
        "* This block is optimal.\n",
        "* The GeostatsPy Package has a function to write 2D/3D ndarrays to Geo-EAS format.\n",
        "* This is the standard file format of GSLIB \n",
        "* We write then read back in 2D ndarray and cofirm it is the same with `np.array_equal()` function."
      ],
      "metadata": {
        "id": "XcyFb0I-RZFW"
      }
    },
    {
      "cell_type": "code",
      "source": [
        "!wget https://github.com/GeostatsGuy/GeostatsPy/blob/master/geostatspy/GSLIB.py"
      ],
      "metadata": {
        "id": "frXjTRuLXVc3"
      },
      "execution_count": null,
      "outputs": []
    },
    {
      "cell_type": "code",
      "source": [
        "def ndarray2GSLIB(array, data_file, col_name):\n",
        "    \"\"\"Convert 1D or 2D numpy ndarray to a GSLIB Geo-EAS file for use with\n",
        "    GSLIB methods.\n",
        "\n",
        "    :param array: input array\n",
        "    :param data_file: file name\n",
        "    :param col_name: column name\n",
        "    :return: None\n",
        "    \"\"\"\n",
        "\n",
        "    if array.ndim not in [1, 2]:\n",
        "        raise ValueError(\"must use a 2D array\")\n",
        "\n",
        "    with open(data_file, \"w\") as f:\n",
        "        f.write(data_file + \"\\n\")\n",
        "        f.write(\"1 \\n\")\n",
        "        f.write(col_name + \"\\n\")\n",
        "\n",
        "        if array.ndim == 2:\n",
        "            ny, nx = array.shape\n",
        "\n",
        "            for iy in range(ny):\n",
        "                for ix in range(nx):\n",
        "                    f.write(str(array[ny - 1 - iy, ix]) + \"\\n\")\n",
        "\n",
        "        elif array.ndim == 1:\n",
        "            nx = len(array)\n",
        "            for ix in range(0, nx):\n",
        "                f.write(str(array[ix]) + \"\\n\")\n",
        "\n",
        "\n",
        "def GSLIB2ndarray(data_file, kcol, nx, ny):\n",
        "    \"\"\"Convert GSLIB Geo-EAS file to a 1D or 2D numpy ndarray for use with\n",
        "    Python methods\n",
        "\n",
        "    :param data_file: file name\n",
        "    :param kcol: TODO\n",
        "    :param nx: shape along x dimension\n",
        "    :param ny: shape along y dimension\n",
        "    :return: ndarray, column name\n",
        "    \"\"\"\n",
        "    if ny > 1:\n",
        "        array = np.ndarray(shape=(ny, nx), dtype=float, order=\"F\")\n",
        "    else:\n",
        "        array = np.zeros(nx)\n",
        "\n",
        "    with open(data_file) as f:\n",
        "        head = [next(f) for _ in range(2)]  # read first two lines\n",
        "        line2 = head[1].split()\n",
        "        ncol = int(line2[0])  # get the number of columns\n",
        "\n",
        "        for icol in range(ncol):  # read over the column names\n",
        "            head = next(f)\n",
        "            if icol == kcol:\n",
        "                col_name = head.split()[0]\n",
        "        if ny > 1:\n",
        "            for iy in range(ny):\n",
        "                for ix in range(0, nx):\n",
        "                    head = next(f)\n",
        "                    array[ny - 1 - iy][ix] = head.split()[kcol]\n",
        "        else:\n",
        "            for ix in range(nx):\n",
        "                head = next(f)\n",
        "                array[ix] = head.split()[kcol]\n",
        "    return array, col_name"
      ],
      "metadata": {
        "id": "y-EmWsG1XjSx"
      },
      "execution_count": null,
      "outputs": []
    },
    {
      "cell_type": "code",
      "source": [
        "# optional - depends on GeostatsPy\n",
        "# geostats for Geostatistic functions\n",
        "ndarray2GSLIB(porosity_map, 'porosity_map_GSLIB.out', 'porosity')  # save the gridded data to Geo-EAS format.\n",
        "porosity_map_test2, col_name = GSLIB2ndarray(\"porosity_map_GSLIB.out\",0,nx,ny)  # save as Geo-EAS file\n",
        "test = np.array_equal(porosity_map, porosity_map_test2)  # check if the array are the same\n",
        "print('The ndarray from the file we read is the same as before we saved it, ' + str(test))\n"
      ],
      "metadata": {
        "id": "3k1MfepnRI_G"
      },
      "execution_count": null,
      "outputs": []
    },
    {
      "cell_type": "markdown",
      "source": [
        "### **Slicing ndarrays**\n",
        "\n",
        "Just like Pandas DataFrames we can also slice Numpy arrays.\n",
        "* recall the Python indexing is $z[y_{top} \\to y_{bottom}][x_{left} \\to x_{right}]$\n",
        "* some common notation -: all, **:5** from $0$ to $4$, **96:** from 96 to end.\n",
        "* and more advanced - **1:10:3** from $1$ through $9$, take every 3rd row or column"
      ],
      "metadata": {
        "id": "PD3f0BnUZC9D"
      }
    },
    {
      "cell_type": "markdown",
      "source": [
        "Let's do our first slice of top left corner for ease od visualization."
      ],
      "metadata": {
        "id": "_euJZShKaCNp"
      }
    },
    {
      "cell_type": "code",
      "source": [
        "top_corner = porosity_map[:5,:5]    # exxtract the top left corner\n",
        "print('The type for the slice is: ' + str(type(top_corner)) + '.')\n",
        "print('The shape for the slice is: ' + str(top_corner.shape) + '.')\n",
        "top_corner\n",
        "\n"
      ],
      "metadata": {
        "id": "9OZ9dz3wXhkb"
      },
      "execution_count": null,
      "outputs": []
    },
    {
      "cell_type": "markdown",
      "source": [
        "### **Slicing ndarrays**\n",
        "\n",
        "Here's the example where we extract the first column of the top corner\n",
        "* this is the furthest left column of the top corner."
      ],
      "metadata": {
        "id": "iyBdodKKauor"
      }
    },
    {
      "cell_type": "code",
      "source": [
        "first_column = top_corner[:,0]   # extract the first column\n",
        "print('The shape of the slice is ' + str(first_column.shape) + \".\")\n",
        "first_column"
      ],
      "metadata": {
        "id": "o487S0hiV8w4"
      },
      "execution_count": null,
      "outputs": []
    },
    {
      "cell_type": "markdown",
      "source": [
        "### **Slicing ndarrays**\n",
        "\n",
        "Here's an example where we extract the bottom 2 rows\n",
        "* This is the bottom 2 rows of the top corner. We use negative integer to count from the end"
      ],
      "metadata": {
        "id": "tHtTmF2xbe5s"
      }
    },
    {
      "cell_type": "code",
      "source": [
        "last_2_rows = top_corner[-2:,:]\n",
        "print('The shape of the slice is ' + str(last_2_rows.shape) + '.')\n",
        "last_2_rows"
      ],
      "metadata": {
        "id": "0k9lq0_KbUI0"
      },
      "execution_count": null,
      "outputs": []
    },
    {
      "cell_type": "markdown",
      "source": [
        "### **Slicing ndarrays**\n",
        "\n",
        "Is slicing is a deep or shallow copy?\n",
        "\n",
        "Let's do a quick chech."
      ],
      "metadata": {
        "id": "G04YW93rcc2y"
      }
    },
    {
      "cell_type": "code",
      "source": [
        "print('The original value for porosity map at [99,99] is ' + str(porosity_map[99,99]) + '.') \n",
        "bottom_right_corner = porosity_map[-3:,-3:]  # make a slice\n",
        "bottom_right_corner[2,2] = 13.0              # change a value in our slice\n",
        "porosity_map                                 # check the original array"
      ],
      "metadata": {
        "id": "JcxIbuQqcB-m"
      },
      "execution_count": null,
      "outputs": []
    },
    {
      "cell_type": "markdown",
      "source": [
        "Slicing is a shallow copy, when we modify a slice the original ndarray is updated.\n",
        "* Let's restore the value of the lower, right element in our 2D ndarray."
      ],
      "metadata": {
        "id": "vIPT1iumc-5D"
      }
    },
    {
      "cell_type": "code",
      "source": [
        "porosity_map[-1,-1] = 10.866"
      ],
      "metadata": {
        "id": "Z5kcm8MVdvxy"
      },
      "execution_count": null,
      "outputs": []
    },
    {
      "cell_type": "code",
      "source": [
        "porosity_map"
      ],
      "metadata": {
        "id": "uidsDc1Ad5Bk"
      },
      "execution_count": null,
      "outputs": []
    },
    {
      "cell_type": "markdown",
      "source": [
        "### **Reading Elements from ndarrays**\n",
        "\n",
        "Here's an example where we extract a specific element.\n",
        "* When do this a single value is returned, type is the element type and not an ndarray. "
      ],
      "metadata": {
        "id": "ox2G7lYWdtyW"
      }
    },
    {
      "cell_type": "code",
      "source": [
        "single_element = porosity_map[2,2]    # Extract an element\n",
        "#single_element = porosity_map[2][2]  # this does the same thing\n",
        "print('The typw of the single element is ' + str(type(single_element)) + '.')\n",
        "single_element\n"
      ],
      "metadata": {
        "id": "-Kg-nnLLebDX"
      },
      "execution_count": null,
      "outputs": []
    },
    {
      "cell_type": "markdown",
      "source": [
        "### **Visualizing ndarrays with Line Plots**\n",
        "\n",
        "By default if we pass a 2D ndarray to MatPlotlib.plot() it condiders each column to be a separate line plot.\n",
        "* If we pass a slice of the first 3 columns we will see each column as a line plot."
      ],
      "metadata": {
        "id": "ExTRbYXve_SK"
      }
    },
    {
      "cell_type": "code",
      "source": [
        "plt.plot(porosity_map[:,:3], label=['1st column', '2nd colum', '3rd column'])                   # plot the first 3 columns\n",
        "plt.xlabel('Index')\n",
        "plt.ylabel('Porosity (%)')\n",
        "plt.subplots_adjust(left=0.0, bottom=0.0,right=2.0,top=1.1, wspace=0.2,hspace=0.2)   # set the plot scale\n",
        "plt.legend()\n",
        "\n",
        "plt.show()"
      ],
      "metadata": {
        "id": "xx51hSBke2G9"
      },
      "execution_count": null,
      "outputs": []
    },
    {
      "cell_type": "markdown",
      "source": [
        "### **Visualizing 2D ndarrys with Line Plots**\n",
        "\n",
        "We can also explicity, separately plot columns and rows.\n",
        "* Note, we can mix rows and columns as we explicity state the index.\n",
        "* To explicitly provide the index we use `Numpy.linspace()` to get an array of $0,1,2\\dots,99$ (more later)"
      ],
      "metadata": {
        "id": "k1-GCWEthUNK"
      }
    },
    {
      "cell_type": "code",
      "source": [
        "plt.figure(figsize=(12,4))\n",
        "\n",
        "plt.plot(np.linspace(0,100,100), porosity_map[:,0], label = '1st column')    # plot the first column\n",
        "plt.plot(np.linspace(0,100,100), porosity_map[0,:], label ='1st row ')       # plot the first row\n",
        "plt.xlim([0,100])   # specify the min and max\n",
        "plt.xlabel('Index')\n",
        "plt.ylabel('Porosity (%)')\n",
        "plt.legend()\n",
        "\n",
        "plt.show()\n"
      ],
      "metadata": {
        "id": "YvyCCPHxgyfD"
      },
      "execution_count": null,
      "outputs": []
    },
    {
      "cell_type": "markdown",
      "source": [
        "### **Visualizing 2D ndarrays, Specify the Coordinates**\n",
        "\n",
        "In order to plot the 2D ndarrays we need to know the coordinates. A simple specification is possible by assuming:\n",
        "* equal element sizes, regular grid\n",
        "* alignment with the X and Y coordinates, no rotation.\n",
        "\n",
        "We specify the following:\n",
        "* extents of the array in X, **x_min** and **x_max**, in Y, **y_min** and **y_max**\n",
        "* **cell_size**\n",
        "* color bar, extents of features, **v_min** and **v_max** and the color map inferno"
      ],
      "metadata": {
        "id": "8ZFuV11rjjWz"
      }
    },
    {
      "cell_type": "code",
      "source": [
        "xmin = 0.0; xmax = 1000.0; ymin = 0.0; ymax = 1000.0; cell_size = 10.0; vmin = 4.0; vmax=16.0; cmap=plt.cm.Paired"
      ],
      "metadata": {
        "id": "LemioS5PjPZ8"
      },
      "execution_count": null,
      "outputs": []
    },
    {
      "cell_type": "markdown",
      "source": [
        "### **Visualizing 2D ndarrays - Optional, Depends on GeostatsPy Package**\n",
        "\n",
        "The Geostats package includes a convenience function for plotting 2D gridded data, like 2D ndarrays\n",
        "* The function is similar to GSLIB's pixelplt function\n",
        "* It uses MatPlotlib functionality, produces a fine contour plot.\n",
        "* Read the index correctly, but indicates a lower left origin (Geo-EAS)"
      ],
      "metadata": {
        "id": "XvI_CwdllHkm"
      }
    },
    {
      "cell_type": "code",
      "source": [
        "# Hard coded image file output\n",
        "image_type = \"tif\"\n",
        "dpi = 600\n",
        "\n",
        "def pixelplt(\n",
        "    array,\n",
        "    xmin,\n",
        "    xmax,\n",
        "    ymin,\n",
        "    ymax,\n",
        "    step,\n",
        "    vmin,\n",
        "    vmax,\n",
        "    title,\n",
        "    xlabel,\n",
        "    ylabel,\n",
        "    vlabel,\n",
        "    cmap,\n",
        "    fig_name,\n",
        "):\n",
        "    \"\"\"Pixel plot, reimplementation in Python of GSLIB pixelplt with Matplotlib\n",
        "    methods.\n",
        "\n",
        "    :param array: ndarray\n",
        "    :param xmin: x axis minimum\n",
        "    :param xmax: x axis maximum\n",
        "    :param ymin: y axis minimum\n",
        "    :param ymax: y axis maximum\n",
        "    :param step: step\n",
        "    :param vmin: TODO\n",
        "    :param vmax: TODO\n",
        "    :param title: title\n",
        "    :param xlabel: label for x axis\n",
        "    :param ylabel: label for y axis\n",
        "    :param vlabel: TODO\n",
        "    :param cmap: colormap\n",
        "    :param fig_name: figure name\n",
        "    :return: QuadContourSet\n",
        "    \"\"\"\n",
        "    xx, yy = np.meshgrid(\n",
        "        np.arange(xmin, xmax, step), np.arange(ymax, ymin, -1 * step)\n",
        "    )\n",
        "    plt.figure(figsize=(8, 6))\n",
        "    # im = plt.contourf(\n",
        "    #    xx,\n",
        "    #    yy,\n",
        "    #    array,\n",
        "    #    cmap=cmap,\n",
        "    #    vmin=vmin,\n",
        "    #    vmax=vmax,\n",
        "    #    levels=np.linspace(vmin, vmax, 100),\n",
        "    #)\n",
        "    im = plt.imshow(array,interpolation = None,extent = [xmin,xmax,ymin,ymax], vmin = vmin, vmax = vmax,cmap = cmap)\n",
        "    plt.title(title)\n",
        "    plt.xlabel(xlabel)\n",
        "    plt.ylabel(ylabel)\n",
        "    cbar = plt.colorbar(\n",
        "        im, orientation=\"vertical\", ticks=np.linspace(vmin, vmax, 10)\n",
        "    )\n",
        "    cbar.set_label(vlabel, rotation=270, labelpad=20)\n",
        "    plt.savefig(fig_name + \".\" + image_type, dpi=dpi)\n",
        "    plt.show()\n",
        "    return im\n"
      ],
      "metadata": {
        "id": "73eL95gnlDI9"
      },
      "execution_count": null,
      "outputs": []
    },
    {
      "cell_type": "code",
      "source": [
        "%matplotlib inline\n",
        "pixelplt(porosity_map, xmin, xmax,ymin,ymax,cell_size,vmin, vmax,\"Porosity Map 2D ndarray\",'X (m)','Y (m)','Porosity (%)',cmap,'Porosity map')\n",
        "\n",
        "plt.show()\n"
      ],
      "metadata": {
        "id": "N3RrqFOFnve3"
      },
      "execution_count": null,
      "outputs": []
    },
    {
      "cell_type": "markdown",
      "source": [
        "### **Visualizing 2D ndarrays**\n",
        "\n",
        "MatPlotlib provides a lot of functionality for plotting 2D ndarrays\n",
        "* Let's make a similar plot with the `MatPlotLib.imshow()` command\n",
        "* There are no interpolation between the elements, we see ndarray elements."
      ],
      "metadata": {
        "id": "mYg8JlLTntXu"
      }
    },
    {
      "cell_type": "code",
      "source": [
        "xx, yy = np.meshgrid(                           # make 2D ndarrays with x and y coordinates\n",
        "  np.arange(xmin,xmax,cell_size), np.arange(ymax, ymin, -1 * cell_size)\n",
        ")\n",
        "im = plt.contourf(xx,yy,porosity_map,cmap=cmap,vmin=vmin,vmax=vmax, # contour plot\n",
        "  levels=np.linspace(vmin, vmax, 100),\n",
        ")\n",
        "plt.xlabel('X (m)'); plt.ylabel('Y (m)'); plt.title('Porosity Map 2D ndarray') # label the axes\n",
        "cbar = plt.colorbar(im, orientation=\"vertical\", ticks=np.linspace(vmin, vmax, 10)) # make a color bar\n",
        "cbar.set_label('Porosity (%)', rotation=270, labelpad=20) # label the color bar\n",
        "plt.subplots_adjust(left=0.0, bottom=0.0, right=1.0, top=1.1, wspace=0.2, hspace=0.2) # set the plot scale\n",
        "plt.show()                                      # close the plot"
      ],
      "metadata": {
        "id": "aorpaF9Ypy2G"
      },
      "execution_count": null,
      "outputs": []
    },
    {
      "cell_type": "markdown",
      "source": [
        "### **Summary statistics from ndarrays**\n",
        "\n",
        "Let's try some summary statistics with a function from `SciPy`\n",
        "* Many stats method expect a 1D array, so we must flatten the 2D array.\n",
        "* If we don't flatten we will get separate summary statistics for each column."
      ],
      "metadata": {
        "id": "QYJI8X6KRpXF"
      }
    },
    {
      "cell_type": "code",
      "source": [
        "stats.describe(porosity_map.flatten())"
      ],
      "metadata": {
        "id": "1NbcrH0WpzTE"
      },
      "execution_count": null,
      "outputs": []
    },
    {
      "cell_type": "markdown",
      "source": [
        "### **Statistics from ndarrays**\n",
        "\n",
        "We also have variety of ndarray member functions for statistics\n",
        "* The calculation is completed over all elements without the need for flattening."
      ],
      "metadata": {
        "id": "pOEt-10FVgW7"
      }
    },
    {
      "cell_type": "code",
      "source": [
        "mean_por = porosity_map.mean()\n",
        "stdev_por = porosity_map.std()\n",
        "min_por = porosity_map.min()\n",
        "max_por = porosity_map.max()\n",
        "\n",
        "print('Summary Statistics for Porosity \\n Mean = ' + str(mean_por) + ', StDev = ' + str(stdev_por))\n",
        "print('Min = ' + str(min_por) + ', Max = ' + str(max_por) + '.')"
      ],
      "metadata": {
        "id": "GX1f2QPcV5_S"
      },
      "execution_count": null,
      "outputs": []
    },
    {
      "cell_type": "markdown",
      "source": [
        "### **Reading and Writing Elements of ndarrays**\n",
        "\n",
        "We can read and write individual elements of our ndarray\n",
        "* Remember the previously discussed indexing scheme."
      ],
      "metadata": {
        "id": "9N1zU9wRW12A"
      }
    },
    {
      "cell_type": "code",
      "source": [
        "array_element = porosity_map[0,0]       # read the value at location 0,0 top left corner\n",
        "print('Porosity at location 0,0 in our ndarray is: ' + str(array_element) + '.')\n",
        "porosity_map[0,0] = 10.0                # Write value at the location 0,0 top left corner\n",
        "print('Porosity at location 0,0 in our ndarray is now: ' + str(porosity_map[0,0]) + '.')\n"
      ],
      "metadata": {
        "id": "P2j9akn6WqDS"
      },
      "execution_count": null,
      "outputs": []
    },
    {
      "cell_type": "markdown",
      "source": [
        "### **Check ndarray for Missing Values**\n",
        "\n",
        "We also can check for missing or invalid values, NaN (Not a Number), in our ndarray.\n",
        "* We use the Numpy function `NumPy.isnan()` to return a boolean array of same size (True if NaN),\n",
        "* Then we use `[my_ndarray].any()` to check for any True value."
      ],
      "metadata": {
        "id": "HzyN2OzsZPcJ"
      }
    },
    {
      "cell_type": "code",
      "source": [
        "porosity_map[0,1] = np.nan\n",
        "porosity_map[2,1] = np.nan\n",
        "result = np.isnan(porosity_map).any()\n",
        "print(\"Are there any missing value in this array? \" + str(result) + '.')"
      ],
      "metadata": {
        "id": "MOE0z1rYZ0jP"
      },
      "execution_count": null,
      "outputs": []
    },
    {
      "cell_type": "markdown",
      "source": [
        "### **Find Missing Values in an ndarray**\n",
        "\n",
        "Now we have NaN in our ndarray, let's demonstrate how to find them\n",
        "* NaNs could cause issues with our calculation.\n",
        "* We can get a list of indices of elements in our ndarray with NaNs\n",
        "* We use the `NumPy.argwhere()` function to returns the indices with True in the 2D boolean ndarray."
      ],
      "metadata": {
        "id": "reHy5nG_ZzyN"
      }
    },
    {
      "cell_type": "code",
      "source": [
        "nan_list = np.argwhere(np.isnan(porosity_map))   # get list of indices of array with NaNs\n",
        "print('The indices with missing values are: \\n' + str(nan_list) + '.')"
      ],
      "metadata": {
        "id": "8dMpyqg5cD-v"
      },
      "execution_count": null,
      "outputs": []
    },
    {
      "cell_type": "markdown",
      "source": [
        "### **Constant value Imputation for an ndarray**\n",
        "\n",
        "Now that we have defined the presence of missing values we can update them\n",
        "* `Numpy.nan_to_num()` function can be used to replace NaNs with a constant."
      ],
      "metadata": {
        "id": "ZtmJCvzAcDaJ"
      }
    },
    {
      "cell_type": "code",
      "source": [
        "porosity_map = np.nan_to_num(porosity_map, nan=0.01)   # replace NaN values\n",
        "porosity_map"
      ],
      "metadata": {
        "id": "2gnAN1PvdB7f"
      },
      "execution_count": null,
      "outputs": []
    },
    {
      "cell_type": "markdown",
      "source": [
        "### **Making ndarrays from scratch**\n",
        "\n",
        "There are various ways to make ndarrays from scratch \n",
        "* In some cases, our ndarrays are small enough we can just write them like this\n",
        "* Note, we list the rows from top to bottom"
      ],
      "metadata": {
        "id": "W3oAwbsBdVmR"
      }
    },
    {
      "cell_type": "code",
      "source": [
        "my_array = np.array([[1,2,3,4],[4,5,6,7],[5,6,7,8],[6,7,8,9]])  # make an ndarray from scratch\n",
        "print('The shape of my array is ' + str(my_array.shape) + '.')\n",
        "my_array"
      ],
      "metadata": {
        "id": "1JqC7KdcdQ4d"
      },
      "execution_count": null,
      "outputs": []
    },
    {
      "cell_type": "markdown",
      "source": [
        "### **Making ndarrays of Zeros**\n",
        "\n",
        "We can make an ndarray full of zeors\n",
        "* We can use the `Numpy.zeros()` function.\n",
        "* I find it useful in many workflows when I know how much memory I will need in advance."
      ],
      "metadata": {
        "id": "ZxWA7qAjevIu"
      }
    },
    {
      "cell_type": "code",
      "source": [
        "zero = np.zeros([2,5])    # make a ndarray from scratch\n",
        "print('The shape of my ndaary is: ' + str(zero.shape) + '.')\n",
        "zero"
      ],
      "metadata": {
        "id": "eyqoJhDHeSju"
      },
      "execution_count": null,
      "outputs": []
    },
    {
      "cell_type": "markdown",
      "source": [
        "### **Making ndarrays of Constant Values**\n",
        "\n",
        "We can also make a ndarray full of constant value with the `Numpy.full()` function"
      ],
      "metadata": {
        "id": "F7dqMx1Yfjln"
      }
    },
    {
      "cell_type": "code",
      "source": [
        "value = 13.0\n",
        "constants = np.full([2,3],value)\n",
        "print('The shape of my ndarray is ' + str(constants.shape) + '.')\n",
        "constants"
      ],
      "metadata": {
        "id": "_2_Od4QWfe0_"
      },
      "execution_count": null,
      "outputs": []
    },
    {
      "cell_type": "markdown",
      "source": [
        "### **Making ndarrays of Random Values**\n",
        "\n",
        "We can also make an ndarray with random values with the `Numpy.random.rand()` function."
      ],
      "metadata": {
        "id": "8m2ce6ORgUYy"
      }
    },
    {
      "cell_type": "code",
      "source": [
        "seed = 730\n",
        "np.random.seed(seed=seed)\n",
        "random = np.random.rand(3,3)\n",
        "print('The shape of my ndarray is ' + str(random.shape) + '.')\n",
        "random"
      ],
      "metadata": {
        "id": "leqtfvmcgOW2"
      },
      "execution_count": null,
      "outputs": []
    },
    {
      "cell_type": "markdown",
      "source": [
        "### **Making ndarrays of Evenly Spaced Numbers**\n",
        "\n",
        "It is often useful to make an ndarray of evenly spaced number with `np.linspace()` function. For example,\n",
        "* bin boundaries\n",
        "* plot indices "
      ],
      "metadata": {
        "id": "F1xZZf6Ohz2q"
      }
    },
    {
      "cell_type": "code",
      "source": [
        "even_space = np.linspace(0,99,100)     # 100 values fro 0 to 99 = 0,1,2...,99\n",
        "even_space"
      ],
      "metadata": {
        "id": "Cx0i0UFlg5Dq"
      },
      "execution_count": null,
      "outputs": []
    },
    {
      "cell_type": "markdown",
      "source": [
        "### **Boolean Operations with ndarrays**\n",
        "\n",
        "We can use boolean operation to filter or search over ndarrays. Let's visualize this boolean ndarray. Output is True(1) and False(0)\n",
        "* This returns a boolean array of the same size of the original array.\n",
        "* True when the condition holds and false otherwise"
      ],
      "metadata": {
        "id": "r3gPat41iiPA"
      }
    },
    {
      "cell_type": "code",
      "source": [
        "threshold = 11.0                                                                    # select a porosity threshold\n",
        "indicator_map = porosity_map > threshold                                            # apply operator\n",
        "\n",
        "plt.subplot(121)\n",
        "im = plt.imshow(porosity_map, vmin=vmin, vmax=vmax, cmap=cmap)                      # plot the 2D array\n",
        "plt.xlabel('X (m)')\n",
        "plt.ylabel('Y (m)')\n",
        "plt.title('Porosity Map 2D ndarray')\n",
        "cbar = plt.colorbar(im, orientation = 'vertical', ticks=np.linspace(vmin,vmax,10))  # make a color bar\n",
        "cbar.set_label('Porosity (%)', rotation=270, labelpad=20)                           # label the color bar\n",
        "\n",
        "plt.subplot(122)                                                                    # plot the boolean map\n",
        "im = plt.imshow(indicator_map, vmin=0.0, vmax=1.0, cmap=cmap )                      # plot the 2D array\n",
        "plt.xlabel('X (m)')\n",
        "plt.ylabel('Y (m)')\n",
        "plt.title('Porosity Map > ' + str(threshold) + '% Boolean 2D ndarray.')\n",
        "cbar = plt.colorbar(im, orientation='vertical', ticks=np.linspace(vmin,vmax,10))\n",
        "cbar.set_label('Porosity Map > ' + str(threshold) + \"% Boolean\", rotation=270, labelpad=20)\n",
        "\n",
        "plt.subplots_adjust(left=0.0, bottom=0.0, right=2.0, top=1.1, wspace=0.2, hspace=0.2)\n",
        "plt.show()"
      ],
      "metadata": {
        "id": "ALF3k9gpifU4"
      },
      "execution_count": null,
      "outputs": []
    },
    {
      "cell_type": "markdown",
      "source": [
        "### **Boolean Operation of ndarrays**\n",
        "\n",
        "We can extract the samples based on a 2D boolean ndarray the same size as the original one.\n",
        "* We pass the boolean array to the original array.\n",
        "* The output is a 1D ndarray with all the element associated with the True values"
      ],
      "metadata": {
        "id": "Q5YavuL5ojAN"
      }
    },
    {
      "cell_type": "code",
      "source": [
        "my_array = np.array([[2,3],[1,4]])   # make a simple array\n",
        "print('My original array is: \\n' + str(my_array))\n",
        "my_boolean_array = np.array([[True,False],[False,True]])  # make a simple boolean array\n",
        "print('My boolean array is: \\n' + str(my_boolean_array))\n",
        "\n",
        "true_values = my_array[my_boolean_array]    # extract the values at the True indices\n",
        "\n",
        "print('The extracted elements ' + str(true_values))\n",
        "true_values"
      ],
      "metadata": {
        "id": "jWFCjVAxlKyR"
      },
      "execution_count": null,
      "outputs": []
    },
    {
      "cell_type": "markdown",
      "source": [
        "### **Working with Extractions from ndarrays**\n",
        "\n",
        "This ability to filter and extract given any condition is quite powerful\n",
        "* Let's calculate and plot histogram for porosity below and above the threshold."
      ],
      "metadata": {
        "id": "rG21rQYlqUma"
      }
    },
    {
      "cell_type": "code",
      "source": [
        "high_porosity = porosity_map[indicator_map]    # extract all porosity values > threshold\n",
        "print('There are ' + str(high_porosity.size) + ' high porosity elements of a total of ' + str(porosity_map.flatten().size) + '.')\n",
        "plt.hist(porosity_map.flatten(), color='gray', alpha=0.2, edgecolor='black', bins=np.linspace(4,16,25), density=False, label='All')\n",
        "plt.hist(high_porosity, color='red', alpha=0.2, edgecolor='black', bins=np.linspace(4,16,25), density=False, label='Extracted')\n",
        "plt.xlabel('Porosity (%)')\n",
        "plt.ylabel('Frequency')\n",
        "plt.title('High Porosity Elements')\n",
        "plt.legend()\n",
        "\n",
        "plt.show()"
      ],
      "metadata": {
        "id": "8bfMn5gDqISV"
      },
      "execution_count": null,
      "outputs": []
    },
    {
      "cell_type": "markdown",
      "source": [
        "### **Mathematical Operators with ndarrays**\n",
        "\n",
        "We can apply any mathematical operation with a constant over all ndarray elements\n",
        "* The math is performed on a 'by-element' basis\n",
        "* These calculation are much more efficient than attempting to loop over ndarray elements manually."
      ],
      "metadata": {
        "id": "qXO4lDKKt8Aj"
      }
    },
    {
      "cell_type": "code",
      "source": [
        "porosity_fraction_map = porosity_map/100.0       # divide all porosity values by 100\n",
        "\n",
        "plt.subplot(121)\n",
        "im = plt.imshow(porosity_map, vmin=vmin, vmax=vmax, cmap=cmap) \n",
        "plt.xlabel('X (m)')\n",
        "plt.ylabel('Y (m)')\n",
        "plt.title('Porosity Map 2D ndarray')\n",
        "cbar = plt.colorbar(im, orientation='vertical', ticks=np.linspace(vmin,vmax,10))\n",
        "cbar.set_label('Porosity (%)', rotation=270, labelpad=20)\n",
        "\n",
        "plt.subplot(122)\n",
        "im = plt.imshow(porosity_fraction_map, vmin=vmin/100.0, vmax=vmax/100.0, cmap=cmap) \n",
        "plt.xlabel('X (m)')\n",
        "plt.ylabel('Y (m)')\n",
        "plt.title('Porosity Fraction Map 2D ndarray')\n",
        "cbar = plt.colorbar(im, orientation='vertical', ticks=np.linspace(vmin/100.0,vmax/100.0,10))\n",
        "cbar.set_label('Porosity (%)', rotation=270, labelpad=20)\n",
        "\n",
        "plt.subplots_adjust(left=0.0, bottom=0.0, right=2.0, top=1.1, wspace=0.2, hspace=0.2) # set the plot scale\n",
        "plt.show() "
      ],
      "metadata": {
        "id": "SA34JokGs_Y1"
      },
      "execution_count": null,
      "outputs": []
    },
    {
      "cell_type": "markdown",
      "source": [
        "### **Operations with ndarrays**\n",
        "\n",
        "If we have ndarrays with the same size, we can directly apply mathematical operations between them."
      ],
      "metadata": {
        "id": "u6ZZKiKMwRyA"
      }
    },
    {
      "cell_type": "code",
      "source": [
        "random_map = (np.random.rand(100,100) - 0.5)*3.0         # make a random map\n",
        "porosity_with_noise = porosity_map + random_map          # add the porosity and random map\n",
        "\n",
        "plt.subplot(131)\n",
        "im = plt.imshow(porosity_map, vmin=vmin, vmax=vmax, cmap=cmap) \n",
        "plt.xlabel('X (m)')\n",
        "plt.ylabel('Y (m)')\n",
        "plt.title('Porosity Map 2D ndarray')\n",
        "cbar = plt.colorbar(im, orientation='vertical', ticks=np.linspace(vmin,vmax,10))\n",
        "cbar.set_label('Porosity (%)', rotation=270, labelpad=20)\n",
        "\n",
        "plt.subplot(132)\n",
        "im = plt.imshow(random_map, vmin=-3, vmax=3, cmap=cmap) \n",
        "plt.xlabel('X (m)')\n",
        "plt.ylabel('Y (m)')\n",
        "plt.title('Random Noise 2D ndarray')\n",
        "cbar = plt.colorbar(im, orientation='vertical', ticks=np.linspace(-3,3,10))\n",
        "cbar.set_label('Random Noise', rotation=270, labelpad=20)\n",
        "\n",
        "plt.subplot(133)\n",
        "im = plt.imshow(porosity_with_noise, vmin=vmin, vmax=vmax, cmap=cmap) \n",
        "plt.xlabel('X (m)')\n",
        "plt.ylabel('Y (m)')\n",
        "plt.title('Porosity Map with Noise 2D ndarray')\n",
        "cbar = plt.colorbar(im, orientation='vertical', ticks=np.linspace(vmin,vmax,10))\n",
        "cbar.set_label('Porosity (%)', rotation=270, labelpad=20)\n",
        "\n",
        "plt.subplots_adjust(left=0.0, bottom=0.0, right=3.0, top=1.1, wspace=0.2, hspace=0.2)\n",
        "\n",
        "plt.show() \n"
      ],
      "metadata": {
        "id": "ywsgfck0wIQm"
      },
      "execution_count": null,
      "outputs": []
    },
    {
      "cell_type": "markdown",
      "source": [
        "### **Conditional Operators on ndarrays**\n",
        "\n",
        "We can apply `Numpy.where()` function to apply a conditional operator on a ndarray.\n",
        "* This is useful for truncating values to an upper limit.\n",
        "* Let's truncate porosity_map 2D ndarray with our previous threshold."
      ],
      "metadata": {
        "id": "Dvytus_pyY4R"
      }
    },
    {
      "cell_type": "code",
      "source": [
        "truncated = np.where(porosity_map > threshold, threshold, porosity_map)     # trucate the upper tail\n",
        "\n",
        "plt.subplot(121)                                                            # plot the origibal map\n",
        "im = plt.imshow(porosity_map, vmin=vmin, vmax=vmax, cmap=cmap) \n",
        "plt.xlabel('X (m)')\n",
        "plt.ylabel('Y (m)')\n",
        "plt.title('Porosity Map 2D ndarray')\n",
        "cbar = plt.colorbar(im, orientation='vertical', ticks=np.linspace(vmin,vmax,10))\n",
        "cbar.set_label('Porosity (%)', rotation=270, labelpad=20)\n",
        "\n",
        "plt.subplot(122)\n",
        "im = plt.imshow(truncated, vmin=vmin, vmax=vmax, cmap=cmap)\n",
        "plt.xlabel('X (m)')\n",
        "plt.ylabel('Y (m)')\n",
        "plt.title('Porosity with Truncated Map with Upper threshold')\n",
        "cbar = plt.colorbar(im, orientation='vertical', ticks=np.linspace(vmin,vmax,10))\n",
        "cbar.set_label('Porosity (%)', rotation=270, labelpad=20)\n",
        "\n",
        "plt.subplots_adjust(left=0.0, bottom=0.0, right=2.0, top=1.1, wspace=0.2, hspace=0.2)\n",
        "plt.show()    \n"
      ],
      "metadata": {
        "id": "WEWZJnDozEyv"
      },
      "execution_count": null,
      "outputs": []
    },
    {
      "cell_type": "markdown",
      "source": [
        "### **Operations with ndarrays**\n",
        "\n",
        "There may be more complicated operations that we may want to perform. We could loop manually to do anything!\n",
        "\n",
        "* Let's set to `np.nan` all values outside a circle centered at the middle of the map.\n"
      ],
      "metadata": {
        "id": "O_2l_LjH0Zyx"
      }
    },
    {
      "cell_type": "code",
      "source": [
        "por_mod = np.full([100,100], np.nan)\n",
        "for iy in range(ny):\n",
        "  for ix in range(nx):\n",
        "    if ((ix - 50)*(ix -50) + (iy - 50)*(iy -50)) < 1000:\n",
        "      por_mod[ix,iy] = porosity_map[ix,iy]\n",
        "\n",
        "im = plt.imshow(por_mod, vmin=vmin, vmax=vmax, cmap=cmap)\n",
        "plt.xlabel('X (m)')\n",
        "plt.ylabel('Y (m)')\n",
        "plt.title('Porosity Modified')\n",
        "cbar = plt.colorbar(im, orientation='vertical', ticks=np.linspace(vmin,vmax,10))\n",
        "cbar.set_label('Porosity (%)', rotation=270, labelpad=20)\n",
        "\n",
        "plt.subplots_adjust(left=0.0, bottom=0.0, right=2.0, top=1.1, wspace=0.2, hspace=0.2)\n",
        "plt.show()    \n"
      ],
      "metadata": {
        "id": "bzVz33lk0Gnf"
      },
      "execution_count": null,
      "outputs": []
    },
    {
      "cell_type": "markdown",
      "source": [
        "### **Write a ndarray to Geo-EAs - Optional, Depends on GeostatsPy Package** \n",
        "\n",
        "Let's write our new ndarray to a file for storage and to apply with other software such as GSLIB"
      ],
      "metadata": {
        "id": "12FTcdnw5OSf"
      }
    },
    {
      "cell_type": "code",
      "source": [
        "ndarray2GSLIB(por_mod, 'por_mod_GSLIB.dat', 'por_mod')  # write our 2D array to a Geo-stats ASCII file"
      ],
      "metadata": {
        "id": "7OcVh_uL5Dqy"
      },
      "execution_count": null,
      "outputs": []
    }
  ]
}